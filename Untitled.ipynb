{
 "cells": [
  {
   "cell_type": "code",
   "execution_count": null,
   "id": "44f48067-6836-456c-b44b-308520c92971",
   "metadata": {},
   "outputs": [],
   "source": [
    "import pandas as pd\n",
    "import numpy as np\n",
    "\n",
    "# Load the dataset\n",
    "file_path = \"Overview_WithCity.xlsx\"  # Change to your actual file path\n",
    "xls = pd.ExcelFile(file_path)\n",
    "\n",
    "# List all sheet names\n",
    "print(\"Available Sheets:\", xls.sheet_names)\n",
    "\n",
    "# Load all sheets into a dictionary\n",
    "data_sheets = {sheet: xls.parse(sheet) for sheet in xls.sheet_names}\n",
    "\n",
    "# Inspect the first few rows of a sample sheet\n",
    "sample_sheet = list(data_sheets.keys())[0]  # Selecting the first sheet\n",
    "df = data_sheets[sample_sheet]\n",
    "print(f\"Sample data from {sample_sheet}:\\n\", df.head())\n",
    "\n",
    "### --- DATA CLEANING --- ###\n",
    "# Standardizing column names (lowercase, replace spaces with underscores)\n",
    "df.columns = df.columns.str.lower().str.replace(\" \", \"_\")\n",
    "\n",
    "# Convert timestamps to datetime format\n",
    "date_columns = [\"crash_timestamp\", \"crash_timestamp_(us/central)\"]  # Adjust column names as per dataset\n",
    "for col in date_columns:\n",
    "    if col in df.columns:\n",
    "        df[col] = pd.to_datetime(df[col], errors=\"coerce\")  # Convert invalid entries to NaT\n",
    "\n",
    "# Convert numerical fields (if needed)\n",
    "numeric_columns = [\"crash_speed_limit\", \"latitude\", \"longitude\", \"tot_injry_cnt\", \"death_cnt\"]\n",
    "for col in numeric_columns:\n",
    "    if col in df.columns:\n",
    "        df[col] = pd.to_numeric(df[col], errors=\"coerce\")  # Convert invalid entries to NaN\n",
    "\n",
    "# Fill missing values\n",
    "df.fillna({\n",
    "    \"crash_speed_limit\": df[\"crash_speed_limit\"].median(),\n",
    "    \"latitude\": 0,  # Replace missing lat/lon with 0 (or drop rows)\n",
    "    \"longitude\": 0,\n",
    "    \"tot_injry_cnt\": 0,\n",
    "    \"death_cnt\": 0\n",
    "}, inplace=True)\n",
    "\n",
    "# Standardize boolean columns\n",
    "bool_columns = [\"crash_fatal_fl\", \"road_constr_zone_fl\", \"is_deleted\"]\n",
    "for col in bool_columns:\n",
    "    if col in df.columns:\n",
    "        df[col] = df[col].astype(str).str.lower().map({\"true\": True, \"false\": False, \"nan\": False})\n",
    "\n",
    "# Display cleaned dataset\n",
    "print(\"Cleaned Data Sample:\\n\", df.head())\n",
    "\n",
    "# Save cleaned dataset\n",
    "df.to_csv(\"cleaned_crash_data.csv\", index=False)\n",
    "print(\"Cleaned data saved as 'cleaned_crash_data.csv'\")\n"
   ]
  }
 ],
 "metadata": {
  "kernelspec": {
   "display_name": "Python 3 (ipykernel)",
   "language": "python",
   "name": "python3"
  },
  "language_info": {
   "codemirror_mode": {
    "name": "ipython",
    "version": 3
   },
   "file_extension": ".py",
   "mimetype": "text/x-python",
   "name": "python",
   "nbconvert_exporter": "python",
   "pygments_lexer": "ipython3",
   "version": "3.11.7"
  }
 },
 "nbformat": 4,
 "nbformat_minor": 5
}
