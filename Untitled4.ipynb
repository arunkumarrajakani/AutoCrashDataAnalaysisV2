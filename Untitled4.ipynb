{
 "cells": [
  {
   "cell_type": "code",
   "execution_count": 1,
   "id": "7b8905e6-4866-45f5-975c-de8618695e75",
   "metadata": {},
   "outputs": [
    {
     "data": {
      "text/plain": [
       "1"
      ]
     },
     "execution_count": 1,
     "metadata": {},
     "output_type": "execute_result"
    }
   ],
   "source": [
    "import os\n",
    "os.system(\"streamlit run accident_dashboard.py\")\n"
   ]
  },
  {
   "cell_type": "code",
   "execution_count": 2,
   "id": "c484e8f8-834e-4792-a352-628fca262a9a",
   "metadata": {},
   "outputs": [
    {
     "name": "stdout",
     "output_type": "stream",
     "text": [
      "Requirement already satisfied: terminado in c:\\programdata\\anaconda3\\lib\\site-packages (0.17.1)\n",
      "Requirement already satisfied: pywinpty>=1.1.0 in c:\\programdata\\anaconda3\\lib\\site-packages (from terminado) (2.0.10)\n",
      "Requirement already satisfied: tornado>=6.1.0 in c:\\programdata\\anaconda3\\lib\\site-packages (from terminado) (6.3.3)\n",
      "Note: you may need to restart the kernel to use updated packages.\n"
     ]
    }
   ],
   "source": [
    "pip install terminado\n"
   ]
  },
  {
   "cell_type": "code",
   "execution_count": 1,
   "id": "78a3caf9-a272-42a2-b835-8aafba6fb89e",
   "metadata": {},
   "outputs": [
    {
     "data": {
      "text/plain": [
       "1"
      ]
     },
     "execution_count": 1,
     "metadata": {},
     "output_type": "execute_result"
    }
   ],
   "source": [
    "import os\n",
    "os.system(\"streamlit run accident_dashboard.py\")"
   ]
  },
  {
   "cell_type": "code",
   "execution_count": 2,
   "id": "2949d169-17f8-4fa1-87d5-026ade4a5f1d",
   "metadata": {},
   "outputs": [
    {
     "data": {
      "text/plain": [
       "1"
      ]
     },
     "execution_count": 2,
     "metadata": {},
     "output_type": "execute_result"
    }
   ],
   "source": [
    "os.system(\"streamlit run accident_dashboard.py\")"
   ]
  },
  {
   "cell_type": "code",
   "execution_count": 3,
   "id": "8e262944-7c15-475b-8a9d-28141cc50803",
   "metadata": {},
   "outputs": [
    {
     "name": "stdout",
     "output_type": "stream",
     "text": [
      "Name: streamlit\n",
      "Version: 1.30.0\n",
      "Summary: A faster way to build and share data apps\n",
      "Home-page: https://streamlit.io\n",
      "Author: Snowflake Inc\n",
      "Author-email: hello@streamlit.io\n",
      "License: Apache License 2.0\n",
      "Location: C:\\ProgramData\\anaconda3\\Lib\\site-packages\n",
      "Requires: altair, blinker, cachetools, click, gitpython, importlib-metadata, numpy, packaging, pandas, pillow, protobuf, pyarrow, pydeck, python-dateutil, requests, rich, tenacity, toml, tornado, typing-extensions, tzlocal, validators, watchdog\n",
      "Required-by: \n"
     ]
    }
   ],
   "source": [
    "!pip show streamlit\n"
   ]
  },
  {
   "cell_type": "code",
   "execution_count": 4,
   "id": "76de3ff1-e048-4fbf-a519-17c4c0a2c31d",
   "metadata": {},
   "outputs": [
    {
     "data": {
      "text/plain": [
       "['.ipynb_checkpoints',\n",
       " 'AccidentAnalysis.py',\n",
       " 'accident_dashboard.py',\n",
       " 'Book2.csv',\n",
       " 'Book2.xlsx',\n",
       " 'cleaned_crash_data.csv',\n",
       " 'Cleanup.ipynb',\n",
       " 'Untitled.ipynb',\n",
       " 'Untitled1.ipynb',\n",
       " 'Untitled2.ipynb',\n",
       " 'Untitled3.ipynb',\n",
       " 'Untitled4.ipynb',\n",
       " 'US_Accidents_March23.csv']"
      ]
     },
     "execution_count": 4,
     "metadata": {},
     "output_type": "execute_result"
    }
   ],
   "source": [
    "import os\n",
    "os.listdir()"
   ]
  },
  {
   "cell_type": "code",
   "execution_count": 5,
   "id": "48db26e8-6e73-4cf6-b0ff-e1b6930af88f",
   "metadata": {},
   "outputs": [
    {
     "name": "stderr",
     "output_type": "stream",
     "text": [
      "Traceback (most recent call last):\n",
      "  File \"C:\\ProgramData\\anaconda3\\Scripts\\streamlit-script.py\", line 6, in <module>\n",
      "    from streamlit.cli import main\n",
      "ModuleNotFoundError: No module named 'streamlit.cli'\n"
     ]
    }
   ],
   "source": [
    "!streamlit run accident_dashboard.py\n"
   ]
  },
  {
   "cell_type": "code",
   "execution_count": 6,
   "id": "71805b81-07b6-4656-bf88-8f3637ce2233",
   "metadata": {},
   "outputs": [
    {
     "name": "stdout",
     "output_type": "stream",
     "text": [
      "^C\n"
     ]
    }
   ],
   "source": [
    "!python -m streamlit run accident_dashboard.py\n"
   ]
  },
  {
   "cell_type": "code",
   "execution_count": 7,
   "id": "f981719c-b006-480d-9641-49e7c82947aa",
   "metadata": {},
   "outputs": [],
   "source": [
    "!netstat -ano | findstr 8501"
   ]
  },
  {
   "cell_type": "code",
   "execution_count": 8,
   "id": "e0528f2b-4623-42f8-97e8-cb098c089dc6",
   "metadata": {},
   "outputs": [
    {
     "name": "stdout",
     "output_type": "stream",
     "text": [
      "C:\\ProgramData\\anaconda3\\python.exe\n"
     ]
    }
   ],
   "source": [
    "import sys\n",
    "print(sys.executable)\n"
   ]
  },
  {
   "cell_type": "code",
   "execution_count": null,
   "id": "4c6448b0-8945-4d73-9d0e-17dc7cdb30a1",
   "metadata": {},
   "outputs": [],
   "source": []
  }
 ],
 "metadata": {
  "kernelspec": {
   "display_name": "Python 3 (ipykernel)",
   "language": "python",
   "name": "python3"
  },
  "language_info": {
   "codemirror_mode": {
    "name": "ipython",
    "version": 3
   },
   "file_extension": ".py",
   "mimetype": "text/x-python",
   "name": "python",
   "nbconvert_exporter": "python",
   "pygments_lexer": "ipython3",
   "version": "3.11.7"
  }
 },
 "nbformat": 4,
 "nbformat_minor": 5
}
