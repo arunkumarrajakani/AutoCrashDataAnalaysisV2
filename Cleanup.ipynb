{
 "cells": [
  {
   "cell_type": "code",
   "execution_count": 3,
   "id": "0092fd1b-18d9-4407-bf88-cebcf3959e3b",
   "metadata": {},
   "outputs": [
    {
     "name": "stdout",
     "output_type": "stream",
     "text": [
      "Cleaned data saved as 'cleaned_crash_data.csv'\n"
     ]
    }
   ],
   "source": [
    "import pandas as pd\n",
    "import numpy as np\n",
    "\n",
    "# Load the dataset\n",
    "file_path = \"US_Accidents_March23.csv\"\n",
    "df = pd.read_csv(file_path)\n",
    "\n",
    "# Standardizing column names (lowercase, replacing spaces with underscores)\n",
    "df.columns = df.columns.str.lower().str.replace(\" \", \"_\")\n",
    "\n",
    "# Convert timestamp columns to datetime format\n",
    "date_columns = [\"start_time\", \"end_time\", \"weather_timestamp\"]\n",
    "for col in date_columns:\n",
    "    if col in df.columns:\n",
    "        df[col] = pd.to_datetime(df[col], errors=\"coerce\")  # Handle invalid dates\n",
    "\n",
    "# Convert numerical fields\n",
    "numeric_columns = [\"start_lat\", \"start_lng\", \"temperature(f)\", \"wind_speed(mph)\", \"humidity(%)\"]\n",
    "for col in numeric_columns:\n",
    "    if col in df.columns:\n",
    "        df[col] = pd.to_numeric(df[col], errors=\"coerce\")  # Convert non-numeric values to NaN\n",
    "\n",
    "# Fill missing values\n",
    "df.fillna({\n",
    "    \"temperature(f)\": df[\"temperature(f)\"].median(),\n",
    "    \"wind_speed(mph)\": df[\"wind_speed(mph)\"].median(),\n",
    "    \"humidity(%)\": df[\"humidity(%)\"].median(),\n",
    "    \"description\": \"Unknown\"\n",
    "}, inplace=True)\n",
    "\n",
    "# Convert severity into categorical for easier analysis\n",
    "if \"severity\" in df.columns:\n",
    "    df[\"severity\"] = df[\"severity\"].astype(\"category\")\n",
    "\n",
    "# Save cleaned dataset\n",
    "df.to_csv(\"cleaned_crash_data.csv\", index=False)\n",
    "print(\"Cleaned data saved as 'cleaned_crash_data.csv'\")\n"
   ]
  },
  {
   "cell_type": "code",
   "execution_count": null,
   "id": "33085005-31bb-4e51-ae09-4b7218d2ff1f",
   "metadata": {},
   "outputs": [],
   "source": []
  }
 ],
 "metadata": {
  "kernelspec": {
   "display_name": "Python 3 (ipykernel)",
   "language": "python",
   "name": "python3"
  },
  "language_info": {
   "codemirror_mode": {
    "name": "ipython",
    "version": 3
   },
   "file_extension": ".py",
   "mimetype": "text/x-python",
   "name": "python",
   "nbconvert_exporter": "python",
   "pygments_lexer": "ipython3",
   "version": "3.11.7"
  }
 },
 "nbformat": 4,
 "nbformat_minor": 5
}
