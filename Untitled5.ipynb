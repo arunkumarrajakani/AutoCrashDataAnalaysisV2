{
 "cells": [
  {
   "cell_type": "code",
   "execution_count": 1,
   "id": "e189a8ec-e49d-4e46-939c-ccff7249ab51",
   "metadata": {},
   "outputs": [],
   "source": [
    "!netstat -ano | findstr 8501"
   ]
  },
  {
   "cell_type": "code",
   "execution_count": null,
   "id": "ecc1d1df-1573-4e0c-abb9-c375cbd34813",
   "metadata": {},
   "outputs": [],
   "source": [
    "with open(\"test_app.py\", \"w\") as f:\n",
    "    f.write(\"\"\"\n",
    "import streamlit as st\n",
    "st.title(\"Hello Streamlit!\")\n",
    "st.write(\"If you're seeing this, Streamlit works!\")\n",
    "\"\"\")\n",
    "\n",
    "!python -m streamlit run test_app.py\n"
   ]
  },
  {
   "cell_type": "code",
   "execution_count": null,
   "id": "f02cfb08-7afe-4685-8248-552edbf3a8a8",
   "metadata": {},
   "outputs": [],
   "source": [
    "!python -m streamlit run test_app.py --server.headless true\n"
   ]
  },
  {
   "cell_type": "code",
   "execution_count": null,
   "id": "18d79dff-1230-4893-9fdf-c86a9728ec9f",
   "metadata": {},
   "outputs": [],
   "source": []
  }
 ],
 "metadata": {
  "kernelspec": {
   "display_name": "Python 3 (ipykernel)",
   "language": "python",
   "name": "python3"
  },
  "language_info": {
   "codemirror_mode": {
    "name": "ipython",
    "version": 3
   },
   "file_extension": ".py",
   "mimetype": "text/x-python",
   "name": "python",
   "nbconvert_exporter": "python",
   "pygments_lexer": "ipython3",
   "version": "3.11.7"
  }
 },
 "nbformat": 4,
 "nbformat_minor": 5
}
